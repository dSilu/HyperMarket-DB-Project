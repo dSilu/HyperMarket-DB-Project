{
 "cells": [
  {
   "cell_type": "markdown",
   "metadata": {},
   "source": [
    "# Hyper Market DB Query Implementation"
   ]
  },
  {
   "cell_type": "code",
   "execution_count": 1,
   "metadata": {},
   "outputs": [],
   "source": [
    "\n",
    "# Import packages\n",
    "import mysql.connector as mysql\n",
    "import matplotlib.pyplot as plt\n",
    "import seaborn as sns\n",
    "import pandas as pd\n",
    "import numpy as np\n",
    "import getpass\n",
    "import missingno as msn"
   ]
  },
  {
   "cell_type": "code",
   "execution_count": 3,
   "metadata": {},
   "outputs": [
    {
     "name": "stdout",
     "output_type": "stream",
     "text": [
      "<mysql.connector.connection_cext.CMySQLConnection object at 0x7f1f88097220>\n"
     ]
    }
   ],
   "source": [
    "# establish connection\n",
    "\n",
    "db = mysql.connect(\n",
    "    host ='localhost',\n",
    "    user='root',\n",
    "    passwd = 'Silu@0305'\n",
    ")\n",
    "\n",
    "print(db)"
   ]
  },
  {
   "cell_type": "code",
   "execution_count": 6,
   "metadata": {},
   "outputs": [],
   "source": [
    "# Create cursor\n",
    "\n",
    "cursor = db.cursor()"
   ]
  },
  {
   "cell_type": "code",
   "execution_count": 8,
   "metadata": {},
   "outputs": [
    {
     "name": "stdout",
     "output_type": "stream",
     "text": [
      "('FmsDB',)\n",
      "('HyperMarket',)\n",
      "('LabDBMS',)\n",
      "('LabDBMS2',)\n",
      "('LabDBMS3',)\n",
      "('MyProfile',)\n",
      "('Northwind',)\n",
      "('Rough',)\n",
      "('Training',)\n",
      "('ecommerce',)\n",
      "('indium_3',)\n",
      "('information_schema',)\n",
      "('mysql',)\n",
      "('performance_schema',)\n",
      "('sys',)\n"
     ]
    }
   ],
   "source": [
    "# fetch and show all the databases\n",
    "cursor.execute('SHOW DATABASES')\n",
    "\n",
    "all_databases = cursor.fetchall()\n",
    "\n",
    "for i in all_databases:\n",
    "    print(i)"
   ]
  },
  {
   "cell_type": "markdown",
   "metadata": {},
   "source": [
    "*Start Here*"
   ]
  },
  {
   "cell_type": "code",
   "execution_count": 2,
   "metadata": {},
   "outputs": [],
   "source": [
    "# Create a function to establish connection with HyperMarket db\n",
    "\n",
    "def my_connector(pd, db):\n",
    "    \"\"\"Connects to MySQL server\n",
    "\n",
    "    Returns:\n",
    "        _buffer_: returns the connection cursor\n",
    "    \"\"\"\n",
    "\n",
    "\n",
    "    m_db = mysql.connect(\n",
    "        host = 'localhost',\n",
    "        user = 'root',\n",
    "        passwd = pd,\n",
    "        database = db \n",
    "    )\n",
    "\n",
    "    if m_db.is_connected():\n",
    "        print(\"Connection successful\")\n",
    "    else:\n",
    "        print(\"Opps.. Something went wrong.\\n Please try again.\")\n",
    "    \n",
    "    return m_db"
   ]
  },
  {
   "cell_type": "code",
   "execution_count": 3,
   "metadata": {},
   "outputs": [],
   "source": [
    "# Let's create a function\n",
    "\n",
    "def create_df(x):\n",
    "    \"\"\"Creates DataFrame from cursor\n",
    "\n",
    "    Args:\n",
    "        x : cursor of executed query\n",
    "\n",
    "    Returns:\n",
    "        _DataFrame_: Pandas DataFrame\n",
    "    \"\"\"\n",
    "    df = pd.DataFrame(x.fetchall())\n",
    "    df.columns = [i[0] for i in x.description]\n",
    "    return df"
   ]
  },
  {
   "cell_type": "code",
   "execution_count": 4,
   "metadata": {},
   "outputs": [
    {
     "name": "stdout",
     "output_type": "stream",
     "text": [
      "Connection successful\n"
     ]
    }
   ],
   "source": [
    "# call the function and create a cursor\n",
    "cn = my_connector(pd=getpass.getpass('Password: '),db='HyperMarket')\n",
    "cur = cn.cursor(buffered=True)"
   ]
  },
  {
   "cell_type": "markdown",
   "metadata": {},
   "source": [
    "## Basic Queries"
   ]
  },
  {
   "cell_type": "markdown",
   "metadata": {},
   "source": [
    "### 1. Check the tables in the database"
   ]
  },
  {
   "cell_type": "code",
   "execution_count": 6,
   "metadata": {},
   "outputs": [
    {
     "name": "stdout",
     "output_type": "stream",
     "text": [
      "Tables and Views: \n",
      "brands\n",
      "cart\n",
      "categories\n",
      "customer_segment\n",
      "customers\n",
      "details\n",
      "orders\n",
      "outlets\n",
      "products\n",
      "staffs\n",
      "stocks\n"
     ]
    }
   ],
   "source": [
    "# Check table\n",
    "cur.execute(\"SHOW TABLES\")\n",
    "\n",
    "\n",
    "print('Tables and Views: ')\n",
    "for i in cur.fetchall():\n",
    "\n",
    "    print(i[0])"
   ]
  },
  {
   "cell_type": "markdown",
   "metadata": {},
   "source": [
    "### 2. Total number of records in each table"
   ]
  },
  {
   "cell_type": "code",
   "execution_count": 7,
   "metadata": {},
   "outputs": [
    {
     "data": {
      "text/html": [
       "<div>\n",
       "<style scoped>\n",
       "    .dataframe tbody tr th:only-of-type {\n",
       "        vertical-align: middle;\n",
       "    }\n",
       "\n",
       "    .dataframe tbody tr th {\n",
       "        vertical-align: top;\n",
       "    }\n",
       "\n",
       "    .dataframe thead th {\n",
       "        text-align: right;\n",
       "    }\n",
       "</style>\n",
       "<table border=\"1\" class=\"dataframe\">\n",
       "  <thead>\n",
       "    <tr style=\"text-align: right;\">\n",
       "      <th></th>\n",
       "      <th>table_name</th>\n",
       "      <th>num_records</th>\n",
       "    </tr>\n",
       "  </thead>\n",
       "  <tbody>\n",
       "    <tr>\n",
       "      <th>0</th>\n",
       "      <td>brands</td>\n",
       "      <td>1026.0</td>\n",
       "    </tr>\n",
       "    <tr>\n",
       "      <th>1</th>\n",
       "      <td>cart</td>\n",
       "      <td>19973.0</td>\n",
       "    </tr>\n",
       "    <tr>\n",
       "      <th>2</th>\n",
       "      <td>categories</td>\n",
       "      <td>11.0</td>\n",
       "    </tr>\n",
       "    <tr>\n",
       "      <th>3</th>\n",
       "      <td>customer_segment</td>\n",
       "      <td>NaN</td>\n",
       "    </tr>\n",
       "    <tr>\n",
       "      <th>4</th>\n",
       "      <td>customers</td>\n",
       "      <td>264.0</td>\n",
       "    </tr>\n",
       "    <tr>\n",
       "      <th>5</th>\n",
       "      <td>details</td>\n",
       "      <td>NaN</td>\n",
       "    </tr>\n",
       "    <tr>\n",
       "      <th>6</th>\n",
       "      <td>orders</td>\n",
       "      <td>5001.0</td>\n",
       "    </tr>\n",
       "    <tr>\n",
       "      <th>7</th>\n",
       "      <td>outlets</td>\n",
       "      <td>4.0</td>\n",
       "    </tr>\n",
       "    <tr>\n",
       "      <th>8</th>\n",
       "      <td>products</td>\n",
       "      <td>2979.0</td>\n",
       "    </tr>\n",
       "    <tr>\n",
       "      <th>9</th>\n",
       "      <td>staffs</td>\n",
       "      <td>42.0</td>\n",
       "    </tr>\n",
       "    <tr>\n",
       "      <th>10</th>\n",
       "      <td>stocks</td>\n",
       "      <td>11865.0</td>\n",
       "    </tr>\n",
       "  </tbody>\n",
       "</table>\n",
       "</div>"
      ],
      "text/plain": [
       "          table_name  num_records\n",
       "0             brands       1026.0\n",
       "1               cart      19973.0\n",
       "2         categories         11.0\n",
       "3   customer_segment          NaN\n",
       "4          customers        264.0\n",
       "5            details          NaN\n",
       "6             orders       5001.0\n",
       "7            outlets          4.0\n",
       "8           products       2979.0\n",
       "9             staffs         42.0\n",
       "10            stocks      11865.0"
      ]
     },
     "execution_count": 7,
     "metadata": {},
     "output_type": "execute_result"
    }
   ],
   "source": [
    "cur.execute(\"\"\"\n",
    "    SELECT \n",
    "        TABLE_NAME, \n",
    "        TABLE_ROWS \n",
    "    FROM \n",
    "        INFORMATION_SCHEMA.TABLES \n",
    "    WHERE \n",
    "        TABLE_SCHEMA = 'HyperMarket'\"\"\")\n",
    "\n",
    "\n",
    "\n",
    "table_name = []\n",
    "num_records = []\n",
    "\n",
    "for i in cur.fetchall():\n",
    "    table_name.append(i[0])\n",
    "    num_records.append(i[1])\n",
    "\n",
    "\n",
    "table_details = pd.DataFrame({\n",
    "    \"table_name\": table_name,\n",
    "    \"num_records\": num_records\n",
    "})\n",
    "\n",
    "table_details"
   ]
  },
  {
   "cell_type": "code",
   "execution_count": 8,
   "metadata": {},
   "outputs": [
    {
     "data": {
      "text/html": [
       "<div>\n",
       "<style scoped>\n",
       "    .dataframe tbody tr th:only-of-type {\n",
       "        vertical-align: middle;\n",
       "    }\n",
       "\n",
       "    .dataframe tbody tr th {\n",
       "        vertical-align: top;\n",
       "    }\n",
       "\n",
       "    .dataframe thead th {\n",
       "        text-align: right;\n",
       "    }\n",
       "</style>\n",
       "<table border=\"1\" class=\"dataframe\">\n",
       "  <thead>\n",
       "    <tr style=\"text-align: right;\">\n",
       "      <th></th>\n",
       "      <th>table_name</th>\n",
       "      <th>num_records</th>\n",
       "    </tr>\n",
       "  </thead>\n",
       "  <tbody>\n",
       "    <tr>\n",
       "      <th>0</th>\n",
       "      <td>brands</td>\n",
       "      <td>1026</td>\n",
       "    </tr>\n",
       "    <tr>\n",
       "      <th>1</th>\n",
       "      <td>cart</td>\n",
       "      <td>19973</td>\n",
       "    </tr>\n",
       "    <tr>\n",
       "      <th>2</th>\n",
       "      <td>categories</td>\n",
       "      <td>11</td>\n",
       "    </tr>\n",
       "    <tr>\n",
       "      <th>4</th>\n",
       "      <td>customers</td>\n",
       "      <td>264</td>\n",
       "    </tr>\n",
       "    <tr>\n",
       "      <th>6</th>\n",
       "      <td>orders</td>\n",
       "      <td>5001</td>\n",
       "    </tr>\n",
       "    <tr>\n",
       "      <th>7</th>\n",
       "      <td>outlets</td>\n",
       "      <td>4</td>\n",
       "    </tr>\n",
       "    <tr>\n",
       "      <th>8</th>\n",
       "      <td>products</td>\n",
       "      <td>2979</td>\n",
       "    </tr>\n",
       "    <tr>\n",
       "      <th>9</th>\n",
       "      <td>staffs</td>\n",
       "      <td>42</td>\n",
       "    </tr>\n",
       "    <tr>\n",
       "      <th>10</th>\n",
       "      <td>stocks</td>\n",
       "      <td>11865</td>\n",
       "    </tr>\n",
       "  </tbody>\n",
       "</table>\n",
       "</div>"
      ],
      "text/plain": [
       "    table_name  num_records\n",
       "0       brands         1026\n",
       "1         cart        19973\n",
       "2   categories           11\n",
       "4    customers          264\n",
       "6       orders         5001\n",
       "7      outlets            4\n",
       "8     products         2979\n",
       "9       staffs           42\n",
       "10      stocks        11865"
      ]
     },
     "execution_count": 8,
     "metadata": {},
     "output_type": "execute_result"
    }
   ],
   "source": [
    "table_details.dropna(inplace=True) # Remove views\n",
    "table_details.num_records = table_details.num_records.astype('int') # convert num records from float to integer\n",
    "\n",
    "table_details"
   ]
  },
  {
   "cell_type": "markdown",
   "metadata": {},
   "source": [
    "## SQL VIEWS:\n",
    "\n",
    "To find details about a product or a order we have to join 3 to 4 tables to get the desired outputs.\n",
    "This becomes time consuming when it comes to a busy day. To elevate this issue we can save the data of a complex join\n",
    "to a view table. Which we can use any day any time in a local machine. \n",
    "\n",
    "Views are handy because <br>\n",
    ">    i. Similar to table but does not use physical memory.   <br>\n",
    ">    ii. Simplifies complex queries like joins <br>\n",
    ">    iii. Access control. <br>\n",
    ">    iv. Ease of creation and management <br>\n",
    ">    v. Works like a deep copy of tables. <br>\n",
    "\n",
    "For this reasons we will create a view with all the necessary fields in it, which will reduce the cost of complex joins every time we try to find something."
   ]
  },
  {
   "cell_type": "markdown",
   "metadata": {},
   "source": [
    "**Don't Execute** It's already done"
   ]
  },
  {
   "cell_type": "code",
   "execution_count": null,
   "metadata": {},
   "outputs": [],
   "source": [
    "# Create detailed view \n",
    "cur.execute(\"\"\"\n",
    "    CREATE VIEW HyperMarket.details AS\n",
    "        SELECT \n",
    "            od.outlet_id,\n",
    "            ot.city,\n",
    "            od.order_id,\n",
    "            od.order_date,\n",
    "            od.customer_id,\n",
    "            c1.product_id,\n",
    "            c1.quantity,\n",
    "            b.brand_id,\n",
    "            p.category_id,\n",
    "            p.price\n",
    "        FROM\n",
    "            HyperMarket.outlets ot\n",
    "        LEFT JOIN\n",
    "            HyperMarket.orders od ON ot.outlet_id = od.outlet_id\n",
    "            LEFT JOIN\n",
    "        HyperMarket.cart c1 ON od.order_id = c1.order_id\n",
    "            RIGHT JOIN\n",
    "        HyperMarket.products p ON c1.product_id = p.product_id\n",
    "            LEFT JOIN\n",
    "        HyperMarket.brands b ON p.brand_id = b.brand_id\n",
    "            LEFT JOIN\n",
    "        HyperMarket.categories c2 ON p.category_id = c2.category_id\n",
    "\"\"\")\n"
   ]
  },
  {
   "cell_type": "code",
   "execution_count": null,
   "metadata": {},
   "outputs": [],
   "source": [
    "# the view can be dropped using \n",
    "# cur.execute(\"DROP VIEW HyperMarket.details\")"
   ]
  },
  {
   "cell_type": "code",
   "execution_count": 9,
   "metadata": {},
   "outputs": [
    {
     "data": {
      "text/html": [
       "<div>\n",
       "<style scoped>\n",
       "    .dataframe tbody tr th:only-of-type {\n",
       "        vertical-align: middle;\n",
       "    }\n",
       "\n",
       "    .dataframe tbody tr th {\n",
       "        vertical-align: top;\n",
       "    }\n",
       "\n",
       "    .dataframe thead th {\n",
       "        text-align: right;\n",
       "    }\n",
       "</style>\n",
       "<table border=\"1\" class=\"dataframe\">\n",
       "  <thead>\n",
       "    <tr style=\"text-align: right;\">\n",
       "      <th></th>\n",
       "      <th>outlet_id</th>\n",
       "      <th>city</th>\n",
       "      <th>order_id</th>\n",
       "      <th>order_date</th>\n",
       "      <th>customer_id</th>\n",
       "      <th>product_id</th>\n",
       "      <th>quantity</th>\n",
       "      <th>brand_id</th>\n",
       "      <th>category_id</th>\n",
       "      <th>price</th>\n",
       "    </tr>\n",
       "  </thead>\n",
       "  <tbody>\n",
       "    <tr>\n",
       "      <th>0</th>\n",
       "      <td>ST02</td>\n",
       "      <td>Hyderabad</td>\n",
       "      <td>tx-1196</td>\n",
       "      <td>2022-01-12</td>\n",
       "      <td>ST3ZILW5081</td>\n",
       "      <td>1.0</td>\n",
       "      <td>7.0</td>\n",
       "      <td>BIN1001</td>\n",
       "      <td>4</td>\n",
       "      <td>282.0</td>\n",
       "    </tr>\n",
       "    <tr>\n",
       "      <th>1</th>\n",
       "      <td>ST02</td>\n",
       "      <td>Hyderabad</td>\n",
       "      <td>tx-1615</td>\n",
       "      <td>2022-03-14</td>\n",
       "      <td>ST1AFEQ7815</td>\n",
       "      <td>1.0</td>\n",
       "      <td>7.0</td>\n",
       "      <td>BIN1001</td>\n",
       "      <td>4</td>\n",
       "      <td>282.0</td>\n",
       "    </tr>\n",
       "    <tr>\n",
       "      <th>2</th>\n",
       "      <td>ST01</td>\n",
       "      <td>Chennai</td>\n",
       "      <td>tx-1808</td>\n",
       "      <td>2022-04-10</td>\n",
       "      <td>ST3GFKH6254</td>\n",
       "      <td>1.0</td>\n",
       "      <td>9.0</td>\n",
       "      <td>BIN1001</td>\n",
       "      <td>4</td>\n",
       "      <td>282.0</td>\n",
       "    </tr>\n",
       "    <tr>\n",
       "      <th>3</th>\n",
       "      <td>ST01</td>\n",
       "      <td>Chennai</td>\n",
       "      <td>tx-1842</td>\n",
       "      <td>2022-01-22</td>\n",
       "      <td>ST3UHRX6951</td>\n",
       "      <td>1.0</td>\n",
       "      <td>9.0</td>\n",
       "      <td>BIN1001</td>\n",
       "      <td>4</td>\n",
       "      <td>282.0</td>\n",
       "    </tr>\n",
       "    <tr>\n",
       "      <th>4</th>\n",
       "      <td>ST01</td>\n",
       "      <td>Chennai</td>\n",
       "      <td>tx-1879</td>\n",
       "      <td>2022-03-27</td>\n",
       "      <td>ST4IENZ6043</td>\n",
       "      <td>1.0</td>\n",
       "      <td>2.0</td>\n",
       "      <td>BIN1001</td>\n",
       "      <td>4</td>\n",
       "      <td>282.0</td>\n",
       "    </tr>\n",
       "  </tbody>\n",
       "</table>\n",
       "</div>"
      ],
      "text/plain": [
       "  outlet_id       city order_id  order_date  customer_id  product_id  \\\n",
       "0      ST02  Hyderabad  tx-1196  2022-01-12  ST3ZILW5081         1.0   \n",
       "1      ST02  Hyderabad  tx-1615  2022-03-14  ST1AFEQ7815         1.0   \n",
       "2      ST01    Chennai  tx-1808  2022-04-10  ST3GFKH6254         1.0   \n",
       "3      ST01    Chennai  tx-1842  2022-01-22  ST3UHRX6951         1.0   \n",
       "4      ST01    Chennai  tx-1879  2022-03-27  ST4IENZ6043         1.0   \n",
       "\n",
       "   quantity brand_id  category_id  price  \n",
       "0       7.0  BIN1001            4  282.0  \n",
       "1       7.0  BIN1001            4  282.0  \n",
       "2       9.0  BIN1001            4  282.0  \n",
       "3       9.0  BIN1001            4  282.0  \n",
       "4       2.0  BIN1001            4  282.0  "
      ]
     },
     "execution_count": 9,
     "metadata": {},
     "output_type": "execute_result"
    }
   ],
   "source": [
    "# cal the view\n",
    "cur.execute(\"SELECT * FROM HyperMarket.details\")\n",
    "\n",
    "\n",
    "detailed_df = pd.DataFrame(cur.fetchall())\n",
    "detailed_df.columns = [i[0] for i in cur.description]\n",
    "detailed_df.head()"
   ]
  },
  {
   "cell_type": "code",
   "execution_count": 10,
   "metadata": {},
   "outputs": [
    {
     "data": {
      "text/html": [
       "<div>\n",
       "<style scoped>\n",
       "    .dataframe tbody tr th:only-of-type {\n",
       "        vertical-align: middle;\n",
       "    }\n",
       "\n",
       "    .dataframe tbody tr th {\n",
       "        vertical-align: top;\n",
       "    }\n",
       "\n",
       "    .dataframe thead th {\n",
       "        text-align: right;\n",
       "    }\n",
       "</style>\n",
       "<table border=\"1\" class=\"dataframe\">\n",
       "  <thead>\n",
       "    <tr style=\"text-align: right;\">\n",
       "      <th></th>\n",
       "      <th>outlet_id</th>\n",
       "      <th>city</th>\n",
       "      <th>order_id</th>\n",
       "      <th>order_date</th>\n",
       "      <th>customer_id</th>\n",
       "      <th>product_id</th>\n",
       "      <th>quantity</th>\n",
       "      <th>brand_id</th>\n",
       "      <th>category_id</th>\n",
       "      <th>price</th>\n",
       "      <th>total_price</th>\n",
       "    </tr>\n",
       "  </thead>\n",
       "  <tbody>\n",
       "    <tr>\n",
       "      <th>0</th>\n",
       "      <td>ST02</td>\n",
       "      <td>Hyderabad</td>\n",
       "      <td>tx-1196</td>\n",
       "      <td>2022-01-12</td>\n",
       "      <td>ST3ZILW5081</td>\n",
       "      <td>1.0</td>\n",
       "      <td>7.0</td>\n",
       "      <td>BIN1001</td>\n",
       "      <td>4</td>\n",
       "      <td>282.0</td>\n",
       "      <td>1974.0</td>\n",
       "    </tr>\n",
       "    <tr>\n",
       "      <th>1</th>\n",
       "      <td>ST02</td>\n",
       "      <td>Hyderabad</td>\n",
       "      <td>tx-1615</td>\n",
       "      <td>2022-03-14</td>\n",
       "      <td>ST1AFEQ7815</td>\n",
       "      <td>1.0</td>\n",
       "      <td>7.0</td>\n",
       "      <td>BIN1001</td>\n",
       "      <td>4</td>\n",
       "      <td>282.0</td>\n",
       "      <td>1974.0</td>\n",
       "    </tr>\n",
       "    <tr>\n",
       "      <th>2</th>\n",
       "      <td>ST01</td>\n",
       "      <td>Chennai</td>\n",
       "      <td>tx-1808</td>\n",
       "      <td>2022-04-10</td>\n",
       "      <td>ST3GFKH6254</td>\n",
       "      <td>1.0</td>\n",
       "      <td>9.0</td>\n",
       "      <td>BIN1001</td>\n",
       "      <td>4</td>\n",
       "      <td>282.0</td>\n",
       "      <td>2538.0</td>\n",
       "    </tr>\n",
       "    <tr>\n",
       "      <th>3</th>\n",
       "      <td>ST01</td>\n",
       "      <td>Chennai</td>\n",
       "      <td>tx-1842</td>\n",
       "      <td>2022-01-22</td>\n",
       "      <td>ST3UHRX6951</td>\n",
       "      <td>1.0</td>\n",
       "      <td>9.0</td>\n",
       "      <td>BIN1001</td>\n",
       "      <td>4</td>\n",
       "      <td>282.0</td>\n",
       "      <td>2538.0</td>\n",
       "    </tr>\n",
       "    <tr>\n",
       "      <th>4</th>\n",
       "      <td>ST01</td>\n",
       "      <td>Chennai</td>\n",
       "      <td>tx-1879</td>\n",
       "      <td>2022-03-27</td>\n",
       "      <td>ST4IENZ6043</td>\n",
       "      <td>1.0</td>\n",
       "      <td>2.0</td>\n",
       "      <td>BIN1001</td>\n",
       "      <td>4</td>\n",
       "      <td>282.0</td>\n",
       "      <td>564.0</td>\n",
       "    </tr>\n",
       "  </tbody>\n",
       "</table>\n",
       "</div>"
      ],
      "text/plain": [
       "  outlet_id       city order_id  order_date  customer_id  product_id  \\\n",
       "0      ST02  Hyderabad  tx-1196  2022-01-12  ST3ZILW5081         1.0   \n",
       "1      ST02  Hyderabad  tx-1615  2022-03-14  ST1AFEQ7815         1.0   \n",
       "2      ST01    Chennai  tx-1808  2022-04-10  ST3GFKH6254         1.0   \n",
       "3      ST01    Chennai  tx-1842  2022-01-22  ST3UHRX6951         1.0   \n",
       "4      ST01    Chennai  tx-1879  2022-03-27  ST4IENZ6043         1.0   \n",
       "\n",
       "   quantity brand_id  category_id  price  total_price  \n",
       "0       7.0  BIN1001            4  282.0       1974.0  \n",
       "1       7.0  BIN1001            4  282.0       1974.0  \n",
       "2       9.0  BIN1001            4  282.0       2538.0  \n",
       "3       9.0  BIN1001            4  282.0       2538.0  \n",
       "4       2.0  BIN1001            4  282.0        564.0  "
      ]
     },
     "execution_count": 10,
     "metadata": {},
     "output_type": "execute_result"
    }
   ],
   "source": [
    "# calculate price\n",
    "detailed_df['total_price'] = detailed_df.quantity * detailed_df.price\n",
    "\n",
    "detailed_df.head()"
   ]
  },
  {
   "cell_type": "code",
   "execution_count": 11,
   "metadata": {},
   "outputs": [
    {
     "data": {
      "text/plain": [
       "(19974, 11)"
      ]
     },
     "execution_count": 11,
     "metadata": {},
     "output_type": "execute_result"
    }
   ],
   "source": [
    "# Shape of DataFrame\n",
    "detailed_df.shape"
   ]
  },
  {
   "cell_type": "code",
   "execution_count": 12,
   "metadata": {},
   "outputs": [
    {
     "data": {
      "text/plain": [
       "True"
      ]
     },
     "execution_count": 12,
     "metadata": {},
     "output_type": "execute_result"
    }
   ],
   "source": [
    "# duplicates\n",
    "detailed_df.duplicated().any()"
   ]
  },
  {
   "cell_type": "markdown",
   "metadata": {},
   "source": [
    "There must be duplicates as each customer buys multiple products in multiple orders"
   ]
  },
  {
   "cell_type": "code",
   "execution_count": 13,
   "metadata": {},
   "outputs": [
    {
     "data": {
      "image/png": "[encoded data removed]",
      "text/plain": [
       "<Figure size 1800x720 with 3 Axes>"
      ]
     },
     "metadata": {
      "needs_background": "light"
     },
     "output_type": "display_data"
    }
   ],
   "source": [
    "# missing values\n",
    "msn.bar(detailed_df);"
   ]
  },
  {
   "cell_type": "markdown",
   "metadata": {},
   "source": [
    "No missing value present"
   ]
  },
  {
   "cell_type": "markdown",
   "metadata": {},
   "source": [
    "## Stakeholders' Expectations"
   ]
  },
  {
   "cell_type": "markdown",
   "metadata": {},
   "source": [
    "### Q.1. Top products sold in Chennai and Bengaluru"
   ]
  },
  {
   "cell_type": "markdown",
   "metadata": {},
   "source": [
    "*Note*: <br>\n",
    "**Best selling products**: <br>\n",
    "Ther are two types of best selling products: \n",
    "i.e. price wise (sells wise), quantity wise"
   ]
  },
  {
   "cell_type": "code",
   "execution_count": 5,
   "metadata": {},
   "outputs": [
    {
     "data": {
      "text/html": [
       "<div>\n",
       "<style scoped>\n",
       "    .dataframe tbody tr th:only-of-type {\n",
       "        vertical-align: middle;\n",
       "    }\n",
       "\n",
       "    .dataframe tbody tr th {\n",
       "        vertical-align: top;\n",
       "    }\n",
       "\n",
       "    .dataframe thead th {\n",
       "        text-align: right;\n",
       "    }\n",
       "</style>\n",
       "<table border=\"1\" class=\"dataframe\">\n",
       "  <thead>\n",
       "    <tr style=\"text-align: right;\">\n",
       "      <th></th>\n",
       "      <th>city</th>\n",
       "      <th>product_name</th>\n",
       "      <th>total_sold</th>\n",
       "    </tr>\n",
       "  </thead>\n",
       "  <tbody>\n",
       "    <tr>\n",
       "      <th>0</th>\n",
       "      <td>Bengaluru</td>\n",
       "      <td>Ashwagandharishta</td>\n",
       "      <td>56.0</td>\n",
       "    </tr>\n",
       "    <tr>\n",
       "      <th>1</th>\n",
       "      <td>Bengaluru</td>\n",
       "      <td>Swiss Milk Mug - Ebony E603</td>\n",
       "      <td>52.0</td>\n",
       "    </tr>\n",
       "    <tr>\n",
       "      <th>2</th>\n",
       "      <td>Bengaluru</td>\n",
       "      <td>Chocolate Shake With Real Belgian Chocolate</td>\n",
       "      <td>51.0</td>\n",
       "    </tr>\n",
       "    <tr>\n",
       "      <th>3</th>\n",
       "      <td>Bengaluru</td>\n",
       "      <td>Baby Powder</td>\n",
       "      <td>50.0</td>\n",
       "    </tr>\n",
       "    <tr>\n",
       "      <th>4</th>\n",
       "      <td>Bengaluru</td>\n",
       "      <td>Dry Pants Diapers - Large</td>\n",
       "      <td>50.0</td>\n",
       "    </tr>\n",
       "    <tr>\n",
       "      <th>5</th>\n",
       "      <td>Chennai</td>\n",
       "      <td>Soft Drink</td>\n",
       "      <td>49.0</td>\n",
       "    </tr>\n",
       "    <tr>\n",
       "      <th>6</th>\n",
       "      <td>Bengaluru</td>\n",
       "      <td>Doraemon Super Big Plastic Lunch Box - Assorte...</td>\n",
       "      <td>47.0</td>\n",
       "    </tr>\n",
       "    <tr>\n",
       "      <th>7</th>\n",
       "      <td>Bengaluru</td>\n",
       "      <td>Pampers Pants Diapers - Medium Size 80pcs + Se...</td>\n",
       "      <td>47.0</td>\n",
       "    </tr>\n",
       "    <tr>\n",
       "      <th>8</th>\n",
       "      <td>Chennai</td>\n",
       "      <td>Filter Coffee Powder</td>\n",
       "      <td>46.0</td>\n",
       "    </tr>\n",
       "    <tr>\n",
       "      <th>9</th>\n",
       "      <td>Bengaluru</td>\n",
       "      <td>Cheese Cubes</td>\n",
       "      <td>44.0</td>\n",
       "    </tr>\n",
       "  </tbody>\n",
       "</table>\n",
       "</div>"
      ],
      "text/plain": [
       "        city                                       product_name  total_sold\n",
       "0  Bengaluru                                  Ashwagandharishta        56.0\n",
       "1  Bengaluru                        Swiss Milk Mug - Ebony E603        52.0\n",
       "2  Bengaluru        Chocolate Shake With Real Belgian Chocolate        51.0\n",
       "3  Bengaluru                                        Baby Powder        50.0\n",
       "4  Bengaluru                          Dry Pants Diapers - Large        50.0\n",
       "5    Chennai                                         Soft Drink        49.0\n",
       "6  Bengaluru  Doraemon Super Big Plastic Lunch Box - Assorte...        47.0\n",
       "7  Bengaluru  Pampers Pants Diapers - Medium Size 80pcs + Se...        47.0\n",
       "8    Chennai                               Filter Coffee Powder        46.0\n",
       "9  Bengaluru                                       Cheese Cubes        44.0"
      ]
     },
     "execution_count": 5,
     "metadata": {},
     "output_type": "execute_result"
    }
   ],
   "source": [
    "# quantity wise top selling products\n",
    "\n",
    "cur.execute(\"\"\"\n",
    "    SELECT \n",
    "        o.city, \n",
    "        p.product_name, \n",
    "        SUM(d.quantity) total_sold\n",
    "    FROM\n",
    "        HyperMarket.details d\n",
    "            JOIN\n",
    "        HyperMarket.products p USING (product_id)\n",
    "            JOIN\n",
    "        HyperMarket.outlets o USING (outlet_id)\n",
    "    WHERE\n",
    "        o.city IN ('Chennai' , 'Bengaluru')\n",
    "    GROUP BY 1 , 2\n",
    "    ORDER BY 3 DESC\n",
    "    LIMIT 10\n",
    "\"\"\")\n",
    "\n",
    "\n",
    "top_products_qtty_df = pd.DataFrame(cur.fetchall())\n",
    "top_products_qtty_df.columns = [i[0] for i in cur.description]\n",
    "top_products_qtty_df"
   ]
  },
  {
   "cell_type": "code",
   "execution_count": 25,
   "metadata": {},
   "outputs": [
    {
     "data": {
      "image/png": "[encoded data removed]",
      "text/plain": [
       "<Figure size 432x432 with 1 Axes>"
      ]
     },
     "metadata": {},
     "output_type": "display_data"
    }
   ],
   "source": [
    "top_products_qtty_df.city.value_counts().plot(kind='pie', labels= top_products_qtty_df.city.unique(), autopct='%1.1f%%', figsize=(6,6))\n",
    "plt.ylabel('')\n",
    "plt.title(\"Top most products are sold (quantity wise) in\", fontweight='bold')\n",
    "plt.show()"
   ]
  },
  {
   "cell_type": "code",
   "execution_count": 15,
   "metadata": {},
   "outputs": [
    {
     "data": {
      "text/html": [
       "<div>\n",
       "<style scoped>\n",
       "    .dataframe tbody tr th:only-of-type {\n",
       "        vertical-align: middle;\n",
       "    }\n",
       "\n",
       "    .dataframe tbody tr th {\n",
       "        vertical-align: top;\n",
       "    }\n",
       "\n",
       "    .dataframe thead th {\n",
       "        text-align: right;\n",
       "    }\n",
       "</style>\n",
       "<table border=\"1\" class=\"dataframe\">\n",
       "  <thead>\n",
       "    <tr style=\"text-align: right;\">\n",
       "      <th></th>\n",
       "      <th>city</th>\n",
       "      <th>product_name</th>\n",
       "      <th>price</th>\n",
       "    </tr>\n",
       "  </thead>\n",
       "  <tbody>\n",
       "    <tr>\n",
       "      <th>0</th>\n",
       "      <td>Chennai</td>\n",
       "      <td>Dried Prunes</td>\n",
       "      <td>117705.0</td>\n",
       "    </tr>\n",
       "    <tr>\n",
       "      <th>1</th>\n",
       "      <td>Bengaluru</td>\n",
       "      <td>Dried Prunes</td>\n",
       "      <td>105315.0</td>\n",
       "    </tr>\n",
       "    <tr>\n",
       "      <th>2</th>\n",
       "      <td>Chennai</td>\n",
       "      <td>Mixed Vegetable Pickle</td>\n",
       "      <td>97500.0</td>\n",
       "    </tr>\n",
       "    <tr>\n",
       "      <th>3</th>\n",
       "      <td>Bengaluru</td>\n",
       "      <td>Swiss Milk Mug - Ebony E603</td>\n",
       "      <td>88400.0</td>\n",
       "    </tr>\n",
       "    <tr>\n",
       "      <th>4</th>\n",
       "      <td>Bengaluru</td>\n",
       "      <td>Ashwagandharishta</td>\n",
       "      <td>83426.0</td>\n",
       "    </tr>\n",
       "    <tr>\n",
       "      <th>5</th>\n",
       "      <td>Bengaluru</td>\n",
       "      <td>Christmas Decorative Tree - Big, 5 Ft</td>\n",
       "      <td>77760.0</td>\n",
       "    </tr>\n",
       "    <tr>\n",
       "      <th>6</th>\n",
       "      <td>Chennai</td>\n",
       "      <td>Jelly Tips</td>\n",
       "      <td>72800.0</td>\n",
       "    </tr>\n",
       "    <tr>\n",
       "      <th>7</th>\n",
       "      <td>Chennai</td>\n",
       "      <td>Chocolate Flavoured Lubes</td>\n",
       "      <td>68400.0</td>\n",
       "    </tr>\n",
       "    <tr>\n",
       "      <th>8</th>\n",
       "      <td>Bengaluru</td>\n",
       "      <td>Pista - Irani, Roasted &amp; Salted</td>\n",
       "      <td>66642.0</td>\n",
       "    </tr>\n",
       "    <tr>\n",
       "      <th>9</th>\n",
       "      <td>Chennai</td>\n",
       "      <td>Ravishing Gold Kit</td>\n",
       "      <td>65527.0</td>\n",
       "    </tr>\n",
       "  </tbody>\n",
       "</table>\n",
       "</div>"
      ],
      "text/plain": [
       "        city                           product_name     price\n",
       "0    Chennai                           Dried Prunes  117705.0\n",
       "1  Bengaluru                           Dried Prunes  105315.0\n",
       "2    Chennai                 Mixed Vegetable Pickle   97500.0\n",
       "3  Bengaluru            Swiss Milk Mug - Ebony E603   88400.0\n",
       "4  Bengaluru                      Ashwagandharishta   83426.0\n",
       "5  Bengaluru  Christmas Decorative Tree - Big, 5 Ft   77760.0\n",
       "6    Chennai                             Jelly Tips   72800.0\n",
       "7    Chennai              Chocolate Flavoured Lubes   68400.0\n",
       "8  Bengaluru        Pista - Irani, Roasted & Salted   66642.0\n",
       "9    Chennai                     Ravishing Gold Kit   65527.0"
      ]
     },
     "execution_count": 15,
     "metadata": {},
     "output_type": "execute_result"
    }
   ],
   "source": [
    "# Sells (price) wise top products\n",
    "cur.execute(\"\"\"\n",
    "    SELECT \n",
    "        o.city,\n",
    "        p.product_name,\n",
    "        ROUND(SUM(d.price * d.quantity), 2) price\n",
    "    FROM\n",
    "        HyperMarket.details d\n",
    "            JOIN\n",
    "        HyperMarket.products p USING (product_id)\n",
    "            JOIN\n",
    "        HyperMarket.outlets o USING (outlet_id)\n",
    "    WHERE\n",
    "        o.city IN ('Bengaluru' , 'Chennai')\n",
    "    GROUP BY 1 , 2\n",
    "    ORDER BY price DESC\n",
    "    LIMIT 10\"\"\"\n",
    ")\n",
    "\n",
    "top_products_price_df = pd.DataFrame(cur.fetchall())\n",
    "top_products_price_df.columns = [i[0] for i in cur.description]\n",
    "top_products_price_df"
   ]
  },
  {
   "cell_type": "code",
   "execution_count": 24,
   "metadata": {},
   "outputs": [
    {
     "data": {
      "image/png": "[encoded data removed]",
      "text/plain": [
       "<Figure size 432x432 with 1 Axes>"
      ]
     },
     "metadata": {},
     "output_type": "display_data"
    }
   ],
   "source": [
    "top_products_price_df.city.value_counts().plot(kind='pie', labels= top_products_price_df.city.unique(), autopct='%1.1f%%', figsize=(6,6))\n",
    "plt.ylabel('')\n",
    "plt.title(\"Top most products are sold (price wise) in\", fontweight='bold')\n",
    "plt.show()"
   ]
  },
  {
   "cell_type": "markdown",
   "metadata": {},
   "source": [
    "### Q.2. Least sold products in Pune and Hyderabad"
   ]
  },
  {
   "cell_type": "code",
   "execution_count": 28,
   "metadata": {},
   "outputs": [
    {
     "data": {
      "text/html": [
       "<div>\n",
       "<style scoped>\n",
       "    .dataframe tbody tr th:only-of-type {\n",
       "        vertical-align: middle;\n",
       "    }\n",
       "\n",
       "    .dataframe tbody tr th {\n",
       "        vertical-align: top;\n",
       "    }\n",
       "\n",
       "    .dataframe thead th {\n",
       "        text-align: right;\n",
       "    }\n",
       "</style>\n",
       "<table border=\"1\" class=\"dataframe\">\n",
       "  <thead>\n",
       "    <tr style=\"text-align: right;\">\n",
       "      <th></th>\n",
       "      <th>city</th>\n",
       "      <th>product_name</th>\n",
       "      <th>price</th>\n",
       "    </tr>\n",
       "  </thead>\n",
       "  <tbody>\n",
       "    <tr>\n",
       "      <th>0</th>\n",
       "      <td>Pune</td>\n",
       "      <td>Organic - Aloe Soothing Shampoo</td>\n",
       "      <td>5.0</td>\n",
       "    </tr>\n",
       "    <tr>\n",
       "      <th>1</th>\n",
       "      <td>Hyderabad</td>\n",
       "      <td>Probiotic Health Drink - Light</td>\n",
       "      <td>15.0</td>\n",
       "    </tr>\n",
       "    <tr>\n",
       "      <th>2</th>\n",
       "      <td>Pune</td>\n",
       "      <td>Strong Garlic Instant Noodles</td>\n",
       "      <td>15.0</td>\n",
       "    </tr>\n",
       "    <tr>\n",
       "      <th>3</th>\n",
       "      <td>Hyderabad</td>\n",
       "      <td>Opalware Pudding Set - Silken Charms</td>\n",
       "      <td>24.0</td>\n",
       "    </tr>\n",
       "    <tr>\n",
       "      <th>4</th>\n",
       "      <td>Pune</td>\n",
       "      <td>Malai Paneer</td>\n",
       "      <td>25.0</td>\n",
       "    </tr>\n",
       "    <tr>\n",
       "      <th>5</th>\n",
       "      <td>Pune</td>\n",
       "      <td>Tender Coconut Tub - Frozen Dessert</td>\n",
       "      <td>28.0</td>\n",
       "    </tr>\n",
       "    <tr>\n",
       "      <th>6</th>\n",
       "      <td>Hyderabad</td>\n",
       "      <td>Strong Garlic Instant Noodles</td>\n",
       "      <td>30.0</td>\n",
       "    </tr>\n",
       "    <tr>\n",
       "      <th>7</th>\n",
       "      <td>Hyderabad</td>\n",
       "      <td>Basil Seed Drinks - Honey</td>\n",
       "      <td>30.0</td>\n",
       "    </tr>\n",
       "    <tr>\n",
       "      <th>8</th>\n",
       "      <td>Hyderabad</td>\n",
       "      <td>Natural &amp; Herbal Henna</td>\n",
       "      <td>30.0</td>\n",
       "    </tr>\n",
       "    <tr>\n",
       "      <th>9</th>\n",
       "      <td>Pune</td>\n",
       "      <td>Hair Removal Cream For Normal Skin</td>\n",
       "      <td>30.0</td>\n",
       "    </tr>\n",
       "  </tbody>\n",
       "</table>\n",
       "</div>"
      ],
      "text/plain": [
       "        city                          product_name  price\n",
       "0       Pune       Organic - Aloe Soothing Shampoo    5.0\n",
       "1  Hyderabad        Probiotic Health Drink - Light   15.0\n",
       "2       Pune         Strong Garlic Instant Noodles   15.0\n",
       "3  Hyderabad  Opalware Pudding Set - Silken Charms   24.0\n",
       "4       Pune                          Malai Paneer   25.0\n",
       "5       Pune   Tender Coconut Tub - Frozen Dessert   28.0\n",
       "6  Hyderabad         Strong Garlic Instant Noodles   30.0\n",
       "7  Hyderabad             Basil Seed Drinks - Honey   30.0\n",
       "8  Hyderabad                Natural & Herbal Henna   30.0\n",
       "9       Pune    Hair Removal Cream For Normal Skin   30.0"
      ]
     },
     "execution_count": 28,
     "metadata": {},
     "output_type": "execute_result"
    }
   ],
   "source": [
    "cur.execute(\"\"\"\n",
    "    SELECT \n",
    "        o.city, \n",
    "        p.product_name, \n",
    "        SUM(d.price * d.quantity) price\n",
    "    FROM\n",
    "        HyperMarket.details d\n",
    "            JOIN\n",
    "        HyperMarket.products p USING (product_id)\n",
    "            JOIN\n",
    "        HyperMarket.outlets o USING (outlet_id)\n",
    "    WHERE\n",
    "        o.city IN ('Hyderabad' , 'Pune')\n",
    "    GROUP BY 1 , 2\n",
    "    ORDER BY price ASC\n",
    "    LIMIT 10\"\"\"\n",
    ")\n",
    "\n",
    "least_sold_products = create_df(cur)\n",
    "\n",
    "least_sold_products"
   ]
  },
  {
   "cell_type": "code",
   "execution_count": 30,
   "metadata": {},
   "outputs": [
    {
     "data": {
      "image/png": "[encoded data removed]",
      "text/plain": [
       "<Figure size 432x432 with 1 Axes>"
      ]
     },
     "metadata": {},
     "output_type": "display_data"
    }
   ],
   "source": [
    "least_sold_products.city.value_counts().plot(kind='pie', labels= least_sold_products.city.unique(), autopct='%1.1f%%', figsize=(6,6))\n",
    "plt.ylabel('')\n",
    "plt.title(\"Least sold products (price wise)\", fontweight='bold')\n",
    "plt.show()"
   ]
  },
  {
   "cell_type": "code",
   "execution_count": 38,
   "metadata": {},
   "outputs": [
    {
     "data": {
      "text/html": [
       "<div>\n",
       "<style scoped>\n",
       "    .dataframe tbody tr th:only-of-type {\n",
       "        vertical-align: middle;\n",
       "    }\n",
       "\n",
       "    .dataframe tbody tr th {\n",
       "        vertical-align: top;\n",
       "    }\n",
       "\n",
       "    .dataframe thead th {\n",
       "        text-align: right;\n",
       "    }\n",
       "</style>\n",
       "<table border=\"1\" class=\"dataframe\">\n",
       "  <thead>\n",
       "    <tr style=\"text-align: right;\">\n",
       "      <th></th>\n",
       "      <th>city</th>\n",
       "      <th>product_name</th>\n",
       "      <th>total_sold</th>\n",
       "    </tr>\n",
       "  </thead>\n",
       "  <tbody>\n",
       "    <tr>\n",
       "      <th>0</th>\n",
       "      <td>Pune</td>\n",
       "      <td>Chicken - Burger</td>\n",
       "      <td>1.0</td>\n",
       "    </tr>\n",
       "    <tr>\n",
       "      <th>1</th>\n",
       "      <td>Pune</td>\n",
       "      <td>Prawns - Pud Medium</td>\n",
       "      <td>1.0</td>\n",
       "    </tr>\n",
       "    <tr>\n",
       "      <th>2</th>\n",
       "      <td>Pune</td>\n",
       "      <td>Papaya- Diced</td>\n",
       "      <td>1.0</td>\n",
       "    </tr>\n",
       "    <tr>\n",
       "      <th>3</th>\n",
       "      <td>Pune</td>\n",
       "      <td>Pizza Cutter - Royal</td>\n",
       "      <td>1.0</td>\n",
       "    </tr>\n",
       "    <tr>\n",
       "      <th>4</th>\n",
       "      <td>Hyderabad</td>\n",
       "      <td>Halwa Grater With Container - Green</td>\n",
       "      <td>1.0</td>\n",
       "    </tr>\n",
       "    <tr>\n",
       "      <th>...</th>\n",
       "      <td>...</td>\n",
       "      <td>...</td>\n",
       "      <td>...</td>\n",
       "    </tr>\n",
       "    <tr>\n",
       "      <th>187</th>\n",
       "      <td>Hyderabad</td>\n",
       "      <td>1-2-3 Noodles - Chicken Flavour</td>\n",
       "      <td>1.0</td>\n",
       "    </tr>\n",
       "    <tr>\n",
       "      <th>188</th>\n",
       "      <td>Pune</td>\n",
       "      <td>Chicken Cocktail Sausage</td>\n",
       "      <td>1.0</td>\n",
       "    </tr>\n",
       "    <tr>\n",
       "      <th>189</th>\n",
       "      <td>Hyderabad</td>\n",
       "      <td>Rohu Fish Large Curry Cut 1kg +Chilli Chicken ...</td>\n",
       "      <td>1.0</td>\n",
       "    </tr>\n",
       "    <tr>\n",
       "      <th>190</th>\n",
       "      <td>Hyderabad</td>\n",
       "      <td>Chicken - Mortadella with Green Olives Sliced</td>\n",
       "      <td>1.0</td>\n",
       "    </tr>\n",
       "    <tr>\n",
       "      <th>191</th>\n",
       "      <td>Pune</td>\n",
       "      <td>Mackeral Fish</td>\n",
       "      <td>1.0</td>\n",
       "    </tr>\n",
       "  </tbody>\n",
       "</table>\n",
       "<p>192 rows × 3 columns</p>\n",
       "</div>"
      ],
      "text/plain": [
       "          city                                       product_name  total_sold\n",
       "0         Pune                                   Chicken - Burger         1.0\n",
       "1         Pune                                Prawns - Pud Medium         1.0\n",
       "2         Pune                                      Papaya- Diced         1.0\n",
       "3         Pune                               Pizza Cutter - Royal         1.0\n",
       "4    Hyderabad                Halwa Grater With Container - Green         1.0\n",
       "..         ...                                                ...         ...\n",
       "187  Hyderabad                    1-2-3 Noodles - Chicken Flavour         1.0\n",
       "188       Pune                           Chicken Cocktail Sausage         1.0\n",
       "189  Hyderabad  Rohu Fish Large Curry Cut 1kg +Chilli Chicken ...         1.0\n",
       "190  Hyderabad      Chicken - Mortadella with Green Olives Sliced         1.0\n",
       "191       Pune                                      Mackeral Fish         1.0\n",
       "\n",
       "[192 rows x 3 columns]"
      ]
     },
     "execution_count": 38,
     "metadata": {},
     "output_type": "execute_result"
    }
   ],
   "source": [
    "# Quantity wise\n",
    "cur.execute(\"\"\"\n",
    "    WITH least_selling_products AS\n",
    "    (\n",
    "    SELECT \n",
    "        o.city, \n",
    "        p.product_name, \n",
    "        SUM(d.quantity) total_sold\n",
    "    FROM HyperMarket.details d\n",
    "        JOIN \n",
    "        HyperMarket.products p USING (product_id)\n",
    "        JOIN \n",
    "        HyperMarket.outlets o USING (outlet_id)\n",
    "    WHERE \n",
    "        o.city in ('Hyderabad', 'Pune')\n",
    "    GROUP BY 1,2\n",
    "    ORDER BY 3 ASC)\n",
    "    SELECT * FROM least_selling_products \n",
    "    WHERE total_sold = (\n",
    "        SELECT MIN(total_sold) \n",
    "        FROM least_selling_products)\"\"\"\n",
    ")\n",
    "\n",
    "least_sold_qntty_df = create_df(cur)\n",
    "least_sold_qntty_df"
   ]
  },
  {
   "cell_type": "markdown",
   "metadata": {},
   "source": [
    "So many products are barely sold.\n",
    "\n",
    "Which outlet have more number of least sold products?"
   ]
  },
  {
   "cell_type": "code",
   "execution_count": 33,
   "metadata": {},
   "outputs": [
    {
     "data": {
      "text/plain": [
       "(192, 3)"
      ]
     },
     "execution_count": 33,
     "metadata": {},
     "output_type": "execute_result"
    }
   ],
   "source": [
    "least_sold_qntty_df.shape"
   ]
  },
  {
   "cell_type": "code",
   "execution_count": 34,
   "metadata": {},
   "outputs": [
    {
     "data": {
      "image/png": "[encoded data removed]",
      "text/plain": [
       "<Figure size 432x432 with 1 Axes>"
      ]
     },
     "metadata": {},
     "output_type": "display_data"
    }
   ],
   "source": [
    "least_sold_qntty_df.city.value_counts().plot(kind='pie', labels= least_sold_qntty_df.city.unique(), autopct='%1.1f%%', figsize=(6,6))\n",
    "plt.ylabel('')\n",
    "plt.title(\"Least sold products (quantity wise)\", fontweight='bold')\n",
    "plt.show()"
   ]
  },
  {
   "cell_type": "markdown",
   "metadata": {},
   "source": [
    "### Q.3. Customer Segregation"
   ]
  },
  {
   "cell_type": "code",
   "execution_count": 6,
   "metadata": {},
   "outputs": [
    {
     "data": {
      "text/html": [
       "<div>\n",
       "<style scoped>\n",
       "    .dataframe tbody tr th:only-of-type {\n",
       "        vertical-align: middle;\n",
       "    }\n",
       "\n",
       "    .dataframe tbody tr th {\n",
       "        vertical-align: top;\n",
       "    }\n",
       "\n",
       "    .dataframe thead th {\n",
       "        text-align: right;\n",
       "    }\n",
       "</style>\n",
       "<table border=\"1\" class=\"dataframe\">\n",
       "  <thead>\n",
       "    <tr style=\"text-align: right;\">\n",
       "      <th></th>\n",
       "      <th>customer_id</th>\n",
       "      <th>monthly_shopping</th>\n",
       "      <th>customer_category</th>\n",
       "    </tr>\n",
       "  </thead>\n",
       "  <tbody>\n",
       "    <tr>\n",
       "      <th>0</th>\n",
       "      <td>ST2PMSR5412</td>\n",
       "      <td>58181.0</td>\n",
       "      <td>Platinum</td>\n",
       "    </tr>\n",
       "    <tr>\n",
       "      <th>1</th>\n",
       "      <td>ST1IELB0962</td>\n",
       "      <td>11781.0</td>\n",
       "      <td>Silver</td>\n",
       "    </tr>\n",
       "    <tr>\n",
       "      <th>2</th>\n",
       "      <td>ST1TKPC5768</td>\n",
       "      <td>26479.0</td>\n",
       "      <td>Gold</td>\n",
       "    </tr>\n",
       "    <tr>\n",
       "      <th>3</th>\n",
       "      <td>ST1EWSG3297</td>\n",
       "      <td>14087.5</td>\n",
       "      <td>Silver</td>\n",
       "    </tr>\n",
       "    <tr>\n",
       "      <th>4</th>\n",
       "      <td>ST2RTKD1903</td>\n",
       "      <td>37119.0</td>\n",
       "      <td>Gold</td>\n",
       "    </tr>\n",
       "  </tbody>\n",
       "</table>\n",
       "</div>"
      ],
      "text/plain": [
       "   customer_id  monthly_shopping customer_category\n",
       "0  ST2PMSR5412           58181.0          Platinum\n",
       "1  ST1IELB0962           11781.0            Silver\n",
       "2  ST1TKPC5768           26479.0              Gold\n",
       "3  ST1EWSG3297           14087.5            Silver\n",
       "4  ST2RTKD1903           37119.0              Gold"
      ]
     },
     "execution_count": 6,
     "metadata": {},
     "output_type": "execute_result"
    }
   ],
   "source": [
    "cur.execute('SELECT * FROM customer_segment')\n",
    "\n",
    "customers_df = create_df(cur)\n",
    "customers_df.head()"
   ]
  },
  {
   "cell_type": "code",
   "execution_count": 8,
   "metadata": {},
   "outputs": [
    {
     "data": {
      "text/plain": [
       "(188, 3)"
      ]
     },
     "execution_count": 8,
     "metadata": {},
     "output_type": "execute_result"
    }
   ],
   "source": [
    "customers_df.shape"
   ]
  },
  {
   "cell_type": "code",
   "execution_count": 13,
   "metadata": {},
   "outputs": [
    {
     "data": {
      "image/png": "[encoded data removed]",
      "text/plain": [
       "<Figure size 864x432 with 2 Axes>"
      ]
     },
     "metadata": {
      "needs_background": "light"
     },
     "output_type": "display_data"
    }
   ],
   "source": [
    "fig,ax = plt.subplots(figsize=(12,6))\n",
    "fig.suptitle(\"Customer Segregation in all 4 outlets based on last month sells\", weight='bold')\n",
    "\n",
    "plt.subplot(1,2,1)\n",
    "bar = sns.countplot(data=customers_df, x='customer_category')\n",
    "for i in bar.containers:\n",
    "    bar.bar_label(i)\n",
    "\n",
    "plt.subplot(122)\n",
    "pie = customers_df.customer_category.value_counts().plot(kind='pie', autopct='%1.1f%%')\n",
    "plt.ylabel('')\n",
    "\n",
    "plt.tight_layout()\n",
    "plt.show()"
   ]
  },
  {
   "cell_type": "markdown",
   "metadata": {},
   "source": [
    "### Q.4. Deploy a 'Low Stock' Alert mechanism"
   ]
  },
  {
   "cell_type": "markdown",
   "metadata": {},
   "source": [
    "![Alert Mechanism](IMG_20220729_132021738.jpg)"
   ]
  },
  {
   "cell_type": "code",
   "execution_count": 5,
   "metadata": {},
   "outputs": [
    {
     "ename": "ProgrammingError",
     "evalue": "1305 (42000): PROCEDURE HyperMarket.products_stocks_info does not exist",
     "output_type": "error",
     "traceback": [
      "\u001b[0;31m---------------------------------------------------------------------------\u001b[0m",
      "\u001b[0;31mMySQLInterfaceError\u001b[0m                       Traceback (most recent call last)",
      "File \u001b[0;32m~/.local/lib/python3.10/site-packages/mysql/connector/connection_cext.py:555\u001b[0m, in \u001b[0;36mCMySQLConnection.cmd_query\u001b[0;34m(self, query, raw, buffered, raw_as_string)\u001b[0m\n\u001b[1;32m    554\u001b[0m         query \u001b[39m=\u001b[39m query\u001b[39m.\u001b[39mencode(\u001b[39m\"\u001b[39m\u001b[39mutf-8\u001b[39m\u001b[39m\"\u001b[39m)\n\u001b[0;32m--> 555\u001b[0m     \u001b[39mself\u001b[39;49m\u001b[39m.\u001b[39;49m_cmysql\u001b[39m.\u001b[39;49mquery(\n\u001b[1;32m    556\u001b[0m         query,\n\u001b[1;32m    557\u001b[0m         raw\u001b[39m=\u001b[39;49mraw,\n\u001b[1;32m    558\u001b[0m         buffered\u001b[39m=\u001b[39;49mbuffered,\n\u001b[1;32m    559\u001b[0m         raw_as_string\u001b[39m=\u001b[39;49mraw_as_string,\n\u001b[1;32m    560\u001b[0m         query_attrs\u001b[39m=\u001b[39;49m\u001b[39mself\u001b[39;49m\u001b[39m.\u001b[39;49m_query_attrs,\n\u001b[1;32m    561\u001b[0m     )\n\u001b[1;32m    562\u001b[0m \u001b[39mexcept\u001b[39;00m MySQLInterfaceError \u001b[39mas\u001b[39;00m err:\n",
      "\u001b[0;31mMySQLInterfaceError\u001b[0m: PROCEDURE HyperMarket.products_stocks_info does not exist",
      "\nThe above exception was the direct cause of the following exception:\n",
      "\u001b[0;31mProgrammingError\u001b[0m                          Traceback (most recent call last)",
      "\u001b[1;32m/home/ashrulochan/Downloads/sql-data/hypermarket/HMDQL/implementation.ipynb Cell 47\u001b[0m in \u001b[0;36m<cell line: 1>\u001b[0;34m()\u001b[0m\n\u001b[0;32m----> <a href='vscode-notebook-cell:/home/ashrulochan/Downloads/sql-data/hypermarket/HMDQL/implementation.ipynb#ch0000047?line=0'>1</a>\u001b[0m cur\u001b[39m.\u001b[39;49mexecute(\u001b[39m'\u001b[39;49m\u001b[39mCALL HyperMarket.products_stocks_info()\u001b[39;49m\u001b[39m'\u001b[39;49m)\n\u001b[1;32m      <a href='vscode-notebook-cell:/home/ashrulochan/Downloads/sql-data/hypermarket/HMDQL/implementation.ipynb#ch0000047?line=2'>3</a>\u001b[0m stocks_df \u001b[39m=\u001b[39m create_df(cur)\n",
      "File \u001b[0;32m~/.local/lib/python3.10/site-packages/mysql/connector/cursor_cext.py:276\u001b[0m, in \u001b[0;36mCMySQLCursor.execute\u001b[0;34m(self, operation, params, multi)\u001b[0m\n\u001b[1;32m    271\u001b[0m             \u001b[39mraise\u001b[39;00m ProgrammingError(\n\u001b[1;32m    272\u001b[0m                 \u001b[39m\"\u001b[39m\u001b[39mNot all parameters were used in the SQL statement\u001b[39m\u001b[39m\"\u001b[39m\n\u001b[1;32m    273\u001b[0m             )\n\u001b[1;32m    275\u001b[0m \u001b[39mtry\u001b[39;00m:\n\u001b[0;32m--> 276\u001b[0m     result \u001b[39m=\u001b[39m \u001b[39mself\u001b[39;49m\u001b[39m.\u001b[39;49m_cnx\u001b[39m.\u001b[39;49mcmd_query(\n\u001b[1;32m    277\u001b[0m         stmt,\n\u001b[1;32m    278\u001b[0m         raw\u001b[39m=\u001b[39;49m\u001b[39mself\u001b[39;49m\u001b[39m.\u001b[39;49m_raw,\n\u001b[1;32m    279\u001b[0m         buffered\u001b[39m=\u001b[39;49m\u001b[39mself\u001b[39;49m\u001b[39m.\u001b[39;49m_buffered,\n\u001b[1;32m    280\u001b[0m         raw_as_string\u001b[39m=\u001b[39;49m\u001b[39mself\u001b[39;49m\u001b[39m.\u001b[39;49m_raw_as_string,\n\u001b[1;32m    281\u001b[0m     )\n\u001b[1;32m    282\u001b[0m \u001b[39mexcept\u001b[39;00m MySQLInterfaceError \u001b[39mas\u001b[39;00m err:\n\u001b[1;32m    283\u001b[0m     \u001b[39mraise\u001b[39;00m get_mysql_exception(\n\u001b[1;32m    284\u001b[0m         msg\u001b[39m=\u001b[39merr\u001b[39m.\u001b[39mmsg, errno\u001b[39m=\u001b[39merr\u001b[39m.\u001b[39merrno, sqlstate\u001b[39m=\u001b[39merr\u001b[39m.\u001b[39msqlstate\n\u001b[1;32m    285\u001b[0m     ) \u001b[39mfrom\u001b[39;00m \u001b[39merr\u001b[39;00m\n",
      "File \u001b[0;32m~/.local/lib/python3.10/site-packages/mysql/connector/connection_cext.py:563\u001b[0m, in \u001b[0;36mCMySQLConnection.cmd_query\u001b[0;34m(self, query, raw, buffered, raw_as_string)\u001b[0m\n\u001b[1;32m    555\u001b[0m     \u001b[39mself\u001b[39m\u001b[39m.\u001b[39m_cmysql\u001b[39m.\u001b[39mquery(\n\u001b[1;32m    556\u001b[0m         query,\n\u001b[1;32m    557\u001b[0m         raw\u001b[39m=\u001b[39mraw,\n\u001b[0;32m   (...)\u001b[0m\n\u001b[1;32m    560\u001b[0m         query_attrs\u001b[39m=\u001b[39m\u001b[39mself\u001b[39m\u001b[39m.\u001b[39m_query_attrs,\n\u001b[1;32m    561\u001b[0m     )\n\u001b[1;32m    562\u001b[0m \u001b[39mexcept\u001b[39;00m MySQLInterfaceError \u001b[39mas\u001b[39;00m err:\n\u001b[0;32m--> 563\u001b[0m     \u001b[39mraise\u001b[39;00m get_mysql_exception(\n\u001b[1;32m    564\u001b[0m         err\u001b[39m.\u001b[39merrno, msg\u001b[39m=\u001b[39merr\u001b[39m.\u001b[39mmsg, sqlstate\u001b[39m=\u001b[39merr\u001b[39m.\u001b[39msqlstate\n\u001b[1;32m    565\u001b[0m     ) \u001b[39mfrom\u001b[39;00m \u001b[39merr\u001b[39;00m\n\u001b[1;32m    566\u001b[0m \u001b[39mexcept\u001b[39;00m \u001b[39mAttributeError\u001b[39;00m \u001b[39mas\u001b[39;00m err:\n\u001b[1;32m    567\u001b[0m     addr \u001b[39m=\u001b[39m (\n\u001b[1;32m    568\u001b[0m         \u001b[39mself\u001b[39m\u001b[39m.\u001b[39m_unix_socket \u001b[39mif\u001b[39;00m \u001b[39mself\u001b[39m\u001b[39m.\u001b[39m_unix_socket \u001b[39melse\u001b[39;00m \u001b[39mf\u001b[39m\u001b[39m\"\u001b[39m\u001b[39m{\u001b[39;00m\u001b[39mself\u001b[39m\u001b[39m.\u001b[39m_host\u001b[39m}\u001b[39;00m\u001b[39m:\u001b[39m\u001b[39m{\u001b[39;00m\u001b[39mself\u001b[39m\u001b[39m.\u001b[39m_port\u001b[39m}\u001b[39;00m\u001b[39m\"\u001b[39m\n\u001b[1;32m    569\u001b[0m     )\n",
      "\u001b[0;31mProgrammingError\u001b[0m: 1305 (42000): PROCEDURE HyperMarket.products_stocks_info does not exist"
     ]
    }
   ],
   "source": [
    "cur.execute('CALL HyperMarket.products_stocks_info()')\n",
    "\n",
    "stocks_df = create_df(cur)\n"
   ]
  },
  {
   "cell_type": "code",
   "execution_count": 6,
   "metadata": {},
   "outputs": [
    {
     "data": {
      "text/html": [
       "<div>\n",
       "<style scoped>\n",
       "    .dataframe tbody tr th:only-of-type {\n",
       "        vertical-align: middle;\n",
       "    }\n",
       "\n",
       "    .dataframe tbody tr th {\n",
       "        vertical-align: top;\n",
       "    }\n",
       "\n",
       "    .dataframe thead th {\n",
       "        text-align: right;\n",
       "    }\n",
       "</style>\n",
       "<table border=\"1\" class=\"dataframe\">\n",
       "  <thead>\n",
       "    <tr style=\"text-align: right;\">\n",
       "      <th></th>\n",
       "      <th>product_id</th>\n",
       "      <th>quantity</th>\n",
       "      <th>Current_status</th>\n",
       "    </tr>\n",
       "  </thead>\n",
       "  <tbody>\n",
       "    <tr>\n",
       "      <th>0</th>\n",
       "      <td>1</td>\n",
       "      <td>114.0</td>\n",
       "      <td>Low Stocks</td>\n",
       "    </tr>\n",
       "    <tr>\n",
       "      <th>1</th>\n",
       "      <td>2</td>\n",
       "      <td>194.0</td>\n",
       "      <td>Stocks Sufficient</td>\n",
       "    </tr>\n",
       "    <tr>\n",
       "      <th>2</th>\n",
       "      <td>3</td>\n",
       "      <td>267.0</td>\n",
       "      <td>Stocks Sufficient</td>\n",
       "    </tr>\n",
       "    <tr>\n",
       "      <th>3</th>\n",
       "      <td>4</td>\n",
       "      <td>250.0</td>\n",
       "      <td>Stocks Sufficient</td>\n",
       "    </tr>\n",
       "    <tr>\n",
       "      <th>4</th>\n",
       "      <td>5</td>\n",
       "      <td>186.0</td>\n",
       "      <td>Stocks Sufficient</td>\n",
       "    </tr>\n",
       "  </tbody>\n",
       "</table>\n",
       "</div>"
      ],
      "text/plain": [
       "   product_id  quantity     Current_status\n",
       "0           1     114.0         Low Stocks\n",
       "1           2     194.0  Stocks Sufficient\n",
       "2           3     267.0  Stocks Sufficient\n",
       "3           4     250.0  Stocks Sufficient\n",
       "4           5     186.0  Stocks Sufficient"
      ]
     },
     "execution_count": 6,
     "metadata": {},
     "output_type": "execute_result"
    }
   ],
   "source": [
    "stocks_df.head()"
   ]
  },
  {
   "cell_type": "code",
   "execution_count": 7,
   "metadata": {},
   "outputs": [
    {
     "data": {
      "text/plain": [
       "Stocks Sufficient    11119\n",
       "Low Stocks             881\n",
       "Name: Current_status, dtype: int64"
      ]
     },
     "execution_count": 7,
     "metadata": {},
     "output_type": "execute_result"
    }
   ],
   "source": [
    "stocks_df.Current_status.value_counts()"
   ]
  },
  {
   "cell_type": "code",
   "execution_count": null,
   "metadata": {},
   "outputs": [],
   "source": []
  }
 ],
 "metadata": {
  "kernelspec": {
   "display_name": "Python 3.10.4 64-bit",
   "language": "python",
   "name": "python3"
  },
  "language_info": {
   "codemirror_mode": {
    "name": "ipython",
    "version": 3
   },
   "file_extension": ".py",
   "mimetype": "text/x-python",
   "name": "python",
   "nbconvert_exporter": "python",
   "pygments_lexer": "ipython3",
   "version": "3.10.4"
  },
  "orig_nbformat": 4,
  "vscode": {
   "interpreter": {
    "hash": "916dbcbb3f70747c44a77c7bcd40155683ae19c65e1c03b4aa3499c5328201f1"
   }
  }
 },
 "nbformat": 4,
 "nbformat_minor": 2
}
